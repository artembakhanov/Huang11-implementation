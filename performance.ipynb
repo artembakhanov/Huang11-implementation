{
 "cells": [
  {
   "cell_type": "markdown",
   "metadata": {
    "collapsed": true,
    "pycharm": {
     "name": "#%% md\n"
    }
   },
   "source": [
    "# Performance\n",
    "In this notebook we test the performance and network usage complexity of the algorithm."
   ]
  },
  {
   "cell_type": "code",
   "execution_count": 2,
   "outputs": [],
   "source": [
    "import matplotlib.pyplot as plt\n",
    "\n",
    "from generator import generate_nodes\n",
    "import numpy as np"
   ],
   "metadata": {
    "collapsed": false,
    "pycharm": {
     "name": "#%%\n"
    }
   }
  },
  {
   "cell_type": "markdown",
   "source": [
    "## Errors"
   ],
   "metadata": {
    "collapsed": false,
    "pycharm": {
     "name": "#%% md\n"
    }
   }
  },
  {
   "cell_type": "code",
   "execution_count": 22,
   "outputs": [],
   "source": [
    "n = [10_000, 100_000, 1_000_000]\n",
    "data = [np.random.standard_normal(n_) for n_ in n]\n",
    "sorted_data = [np.sort(arr) for arr in data]\n",
    "k = [50, 100, 1000]\n",
    "h = [3, 5, 10]\n",
    "q = [0.01, 0.05, 0.1, 0.5, 0.9, 0.95, 0.99]\n",
    "errs = []\n",
    "eps = 0.0001"
   ],
   "metadata": {
    "collapsed": false,
    "pycharm": {
     "name": "#%%\n"
    }
   }
  },
  {
   "cell_type": "code",
   "execution_count": 23,
   "outputs": [],
   "source": [
    "for i, data_ in enumerate(data):\n",
    "    n_ = len(data_)\n",
    "    for k_ in k:\n",
    "        for h_ in h:\n",
    "            network, root, _, height = generate_nodes(n_, k_, h_, data_, graph_partition=True)\n",
    "            root.new_task(eps)\n",
    "            for q_ in q:\n",
    "                rank = int(q_ * n_)\n",
    "                res = root.rank_query(rank)\n",
    "                errs.append(np.abs(np.where(sorted_data[i] == res)[0][0] - rank) / n_)\n",
    "\n",
    "avg_error = np.sum(errs) / len(errs)"
   ],
   "metadata": {
    "collapsed": false,
    "pycharm": {
     "name": "#%%\n"
    }
   }
  },
  {
   "cell_type": "code",
   "execution_count": 24,
   "outputs": [
    {
     "data": {
      "text/plain": "0.00045577248677248675"
     },
     "execution_count": 24,
     "metadata": {},
     "output_type": "execute_result"
    }
   ],
   "source": [
    "avg_error"
   ],
   "metadata": {
    "collapsed": false,
    "pycharm": {
     "name": "#%%\n"
    }
   }
  },
  {
   "cell_type": "markdown",
   "source": [
    "## Network Communication Cost\n",
    "\n"
   ],
   "metadata": {
    "collapsed": false,
    "pycharm": {
     "name": "#%% md\n"
    }
   }
  },
  {
   "cell_type": "code",
   "execution_count": 25,
   "outputs": [],
   "source": [
    "import numpy as np\n",
    "from generator import generate_nodes\n",
    "from tqdm import tqdm\n",
    "import matplotlib.pyplot as plt"
   ],
   "metadata": {
    "collapsed": false,
    "pycharm": {
     "name": "#%%\n"
    }
   }
  },
  {
   "cell_type": "code",
   "execution_count": 27,
   "outputs": [],
   "source": [
    "epss = np.logspace(-4, -2, 30)\n",
    "epss_stat = np.zeros_like(epss)\n",
    "ks = np.linspace(128, 2048, 30).astype(int)\n",
    "ks_stat = np.zeros_like(ks, dtype=float)\n",
    "hs = np.linspace(4, 64, 30).astype(int)\n",
    "hs_stat = np.zeros_like(hs, dtype=float)\n",
    "q = 0.25\n",
    "n = 1_000_000\n",
    "repetitions = 30\n",
    "\n",
    "split_deviation = 0.0 #n // 10\n",
    "rank = q * n"
   ],
   "metadata": {
    "collapsed": false,
    "pycharm": {
     "name": "#%%\n"
    }
   }
  },
  {
   "cell_type": "code",
   "execution_count": 28,
   "outputs": [
    {
     "name": "stdout",
     "output_type": "stream",
     "text": [
      "Generating random data\n",
      "Sorting the data\n"
     ]
    }
   ],
   "source": [
    "print(\"Generating random data\")\n",
    "data = np.random.standard_normal(n)\n",
    "\n",
    "print(\"Sorting the data\")\n",
    "sorted_data = np.sort(data)"
   ],
   "metadata": {
    "collapsed": false,
    "pycharm": {
     "name": "#%%\n"
    }
   }
  },
  {
   "cell_type": "code",
   "execution_count": 29,
   "outputs": [
    {
     "name": "stdout",
     "output_type": "stream",
     "text": [
      "Started testing number of nodes (k) in the network\n"
     ]
    },
    {
     "name": "stderr",
     "output_type": "stream",
     "text": [
      "30it [07:46, 15.54s/it]\n"
     ]
    },
    {
     "data": {
      "text/plain": "[<matplotlib.lines.Line2D at 0x126a51fd0>]"
     },
     "execution_count": 29,
     "metadata": {},
     "output_type": "execute_result"
    },
    {
     "data": {
      "text/plain": "<Figure size 432x288 with 1 Axes>",
      "image/png": "[encoded data removed]"
     },
     "metadata": {
      "needs_background": "light"
     },
     "output_type": "display_data"
    }
   ],
   "source": [
    "print(\"Started testing number of nodes (k) in the network\")\n",
    "for i, k in tqdm(enumerate(ks)):\n",
    "    for _ in range(repetitions):\n",
    "        network, root, data, height = generate_nodes(n, k, 8, data, split_deviation=split_deviation, graph_partition=True)\n",
    "        network.reset()\n",
    "\n",
    "        root.new_task(epss[0])\n",
    "        value, rank = root.rank_query(rank, return_rank=True)\n",
    "        ks_stat[i] += network.non_system_stats\n",
    "        # print(network.stat)\n",
    "ks_stat /= repetitions"
   ],
   "metadata": {
    "collapsed": false,
    "pycharm": {
     "name": "#%%\n"
    }
   }
  },
  {
   "cell_type": "code",
   "execution_count": 32,
   "outputs": [
    {
     "data": {
      "text/plain": "<Figure size 432x288 with 1 Axes>",
      "image/png": "[encoded data removed]"
     },
     "metadata": {
      "needs_background": "light"
     },
     "output_type": "display_data"
    }
   ],
   "source": [
    "plt.plot(ks, ks_stat)\n",
    "plt.xlabel('k')\n",
    "plt.ylabel('communication cost')\n",
    "plt.show()"
   ],
   "metadata": {
    "collapsed": false,
    "pycharm": {
     "name": "#%%\n"
    }
   }
  },
  {
   "cell_type": "code",
   "execution_count": 33,
   "outputs": [
    {
     "data": {
      "text/plain": "3.8553198541035827"
     },
     "execution_count": 33,
     "metadata": {},
     "output_type": "execute_result"
    }
   ],
   "source": [
    "ks_stat[-1]/ks_stat[0]\n"
   ],
   "metadata": {
    "collapsed": false,
    "pycharm": {
     "name": "#%%\n"
    }
   }
  },
  {
   "cell_type": "code",
   "execution_count": null,
   "outputs": [],
   "source": [],
   "metadata": {
    "collapsed": false,
    "pycharm": {
     "name": "#%%\n"
    }
   }
  },
  {
   "cell_type": "code",
   "execution_count": 34,
   "outputs": [
    {
     "name": "stdout",
     "output_type": "stream",
     "text": [
      "Started testing number of nodes (k) in the network\n"
     ]
    },
    {
     "name": "stderr",
     "output_type": "stream",
     "text": [
      "30it [03:15,  6.52s/it]\n"
     ]
    }
   ],
   "source": [
    "print(\"Started testing height of the tree (h) in the network\")\n",
    "for i, h in tqdm(enumerate(hs)):\n",
    "    for _ in range(repetitions):\n",
    "        network, root, data, height = generate_nodes(n, 256, h, data, split_deviation=split_deviation, graph_partition=True)\n",
    "        network.reset()\n",
    "\n",
    "        root.new_task(epss[0])\n",
    "        value, rank = root.rank_query(rank, return_rank=True)\n",
    "        hs_stat[i] += network.non_system_stats\n",
    "        # print(network.stat)\n",
    "hs_stat /= repetitions"
   ],
   "metadata": {
    "collapsed": false,
    "pycharm": {
     "name": "#%%\n"
    }
   }
  },
  {
   "cell_type": "code",
   "execution_count": 35,
   "outputs": [
    {
     "data": {
      "text/plain": "<Figure size 432x288 with 1 Axes>",
      "image/png": "[encoded data removed]"
     },
     "metadata": {
      "needs_background": "light"
     },
     "output_type": "display_data"
    }
   ],
   "source": [
    "plt.plot(hs, hs_stat)\n",
    "plt.xlabel('h')\n",
    "plt.ylabel('communication cost')\n",
    "plt.show()"
   ],
   "metadata": {
    "collapsed": false,
    "pycharm": {
     "name": "#%%\n"
    }
   }
  },
  {
   "cell_type": "code",
   "execution_count": 36,
   "outputs": [
    {
     "data": {
      "text/plain": "3.9292261665047117"
     },
     "execution_count": 36,
     "metadata": {},
     "output_type": "execute_result"
    }
   ],
   "source": [
    "hs_stat[-1]/hs_stat[0]\n"
   ],
   "metadata": {
    "collapsed": false,
    "pycharm": {
     "name": "#%%\n"
    }
   }
  },
  {
   "cell_type": "code",
   "execution_count": 37,
   "outputs": [
    {
     "name": "stdout",
     "output_type": "stream",
     "text": [
      "Started testing error (eps)\n"
     ]
    },
    {
     "name": "stderr",
     "output_type": "stream",
     "text": [
      "30it [03:54,  7.83s/it]\n"
     ]
    }
   ],
   "source": [
    "print(\"Started testing error (eps)\")\n",
    "for i, eps in tqdm(enumerate(epss)):\n",
    "    for _ in range(repetitions):\n",
    "        network, root, data, height = generate_nodes(n, 1024, 16, data, split_deviation=split_deviation, graph_partition=True)\n",
    "        network.reset()\n",
    "\n",
    "        root.new_task(eps)\n",
    "        value, rank = root.rank_query(rank, return_rank=True)\n",
    "        epss_stat[i] += network.non_system_stats\n",
    "        # print(network.stat)\n",
    "epss_stat /= repetitions"
   ],
   "metadata": {
    "collapsed": false,
    "pycharm": {
     "name": "#%%\n"
    }
   }
  },
  {
   "cell_type": "code",
   "execution_count": 40,
   "outputs": [
    {
     "data": {
      "text/plain": "<Figure size 432x288 with 1 Axes>",
      "image/png": "[encoded data removed]"
     },
     "metadata": {
      "needs_background": "light"
     },
     "output_type": "display_data"
    }
   ],
   "source": [
    "plt.plot(epss, epss_stat)\n",
    "plt.xlabel('eps')\n",
    "plt.ylabel('communication cost')\n",
    "plt.yscale(\"log\")\n",
    "plt.xscale(\"log\")\n",
    "plt.show()"
   ],
   "metadata": {
    "collapsed": false,
    "pycharm": {
     "name": "#%%\n"
    }
   }
  },
  {
   "cell_type": "code",
   "execution_count": 41,
   "outputs": [
    {
     "data": {
      "text/plain": "0.010064684976656487"
     },
     "execution_count": 41,
     "metadata": {},
     "output_type": "execute_result"
    }
   ],
   "source": [
    "epss_stat[-1]/epss_stat[0]"
   ],
   "metadata": {
    "collapsed": false,
    "pycharm": {
     "name": "#%%\n"
    }
   }
  },
  {
   "cell_type": "markdown",
   "source": [
    "## Conclusion\n",
    "It was not a lie! The algorithm is working with $O(\\sqrt{kh} / \\epsilon)$ total communication complexity!"
   ],
   "metadata": {
    "collapsed": false,
    "pycharm": {
     "name": "#%% md\n"
    }
   }
  }
 ],
 "metadata": {
  "kernelspec": {
   "display_name": "Python 3",
   "language": "python",
   "name": "python3"
  },
  "language_info": {
   "codemirror_mode": {
    "name": "ipython",
    "version": 2
   },
   "file_extension": ".py",
   "mimetype": "text/x-python",
   "name": "python",
   "nbconvert_exporter": "python",
   "pygments_lexer": "ipython2",
   "version": "2.7.6"
  }
 },
 "nbformat": 4,
 "nbformat_minor": 0
}