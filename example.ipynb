{
 "cells": [
  {
   "cell_type": "markdown",
   "source": [
    "# Example"
   ],
   "metadata": {
    "collapsed": false
   }
  },
  {
   "cell_type": "code",
   "execution_count": 3,
   "outputs": [],
   "source": [
    "from generator import generate_nodes\n",
    "import numpy as np"
   ],
   "metadata": {
    "collapsed": false,
    "pycharm": {
     "name": "#%%\n"
    }
   }
  },
  {
   "cell_type": "markdown",
   "source": [
    "Let us generate a random network with k nodes and n data points.\n",
    "\n"
   ],
   "metadata": {
    "collapsed": false,
    "pycharm": {
     "name": "#%% md\n"
    }
   }
  },
  {
   "cell_type": "code",
   "execution_count": 2,
   "outputs": [],
   "source": [
    "n = 10_000_000  # size of data\n",
    "k = 1024  # number of nodes\n",
    "h = 20  # height of the tree"
   ],
   "metadata": {
    "collapsed": false,
    "pycharm": {
     "name": "#%%\n"
    }
   }
  },
  {
   "cell_type": "code",
   "execution_count": 4,
   "outputs": [],
   "source": [
    "network, node_root, data, height = generate_nodes(n, k, h, split_deviation=0.0, random_gen=np.random.standard_normal,\n",
    "                                                  graph_partition=True)"
   ],
   "metadata": {
    "collapsed": false,
    "pycharm": {
     "name": "#%%\n"
    }
   }
  },
  {
   "cell_type": "markdown",
   "source": [
    "Sort the data so we can easily get n-th quantile."
   ],
   "metadata": {
    "collapsed": false,
    "pycharm": {
     "name": "#%% md\n"
    }
   }
  },
  {
   "cell_type": "code",
   "execution_count": 5,
   "outputs": [],
   "source": [
    "data = np.sort(data)"
   ],
   "metadata": {
    "collapsed": false,
    "pycharm": {
     "name": "#%%\n"
    }
   }
  },
  {
   "cell_type": "markdown",
   "source": [
    "We want to get q-th quantile."
   ],
   "metadata": {
    "collapsed": false,
    "pycharm": {
     "name": "#%% md\n"
    }
   }
  },
  {
   "cell_type": "code",
   "execution_count": 8,
   "outputs": [],
   "source": [
    "q = 0.25\n",
    "i = q * n"
   ],
   "metadata": {
    "collapsed": false,
    "pycharm": {
     "name": "#%%\n"
    }
   }
  },
  {
   "cell_type": "code",
   "execution_count": 15,
   "outputs": [
    {
     "name": "stdout",
     "output_type": "stream",
     "text": [
      "orig rank: 2500000.0\n",
      "orig numpy quantile: -0.6739484243114819\n",
      "exact quantile: -0.6739481797451743\n"
     ]
    }
   ],
   "source": [
    "per = np.percentile(data, q * 100)\n",
    "print(\"orig rank:\", i)\n",
    "print(\"orig numpy quantile:\", per)\n",
    "print(\"exact quantile:\", data[int(i)])"
   ],
   "metadata": {
    "collapsed": false,
    "pycharm": {
     "name": "#%%\n"
    }
   }
  },
  {
   "cell_type": "markdown",
   "source": [
    "Desired error"
   ],
   "metadata": {
    "collapsed": false,
    "pycharm": {
     "name": "#%% md\n"
    }
   }
  },
  {
   "cell_type": "code",
   "execution_count": 16,
   "outputs": [
    {
     "name": "stdout",
     "output_type": "stream",
     "text": [
      "max rank error should be 1000.0\n"
     ]
    }
   ],
   "source": [
    "eps = 0.0001\n",
    "print(f\"max rank error should be {eps * n}\")"
   ],
   "metadata": {
    "collapsed": false,
    "pycharm": {
     "name": "#%%\n"
    }
   }
  },
  {
   "cell_type": "markdown",
   "source": [
    "Create new task in the root node."
   ],
   "metadata": {
    "collapsed": false,
    "pycharm": {
     "name": "#%% md\n"
    }
   }
  },
  {
   "cell_type": "code",
   "execution_count": 18,
   "outputs": [],
   "source": [
    "node_root.new_task(eps)"
   ],
   "metadata": {
    "collapsed": false,
    "pycharm": {
     "name": "#%%\n"
    }
   }
  },
  {
   "cell_type": "markdown",
   "source": [
    "Now we can query the root node"
   ],
   "metadata": {
    "collapsed": false,
    "pycharm": {
     "name": "#%% md\n"
    }
   }
  },
  {
   "cell_type": "code",
   "execution_count": 21,
   "outputs": [
    {
     "name": "stdout",
     "output_type": "stream",
     "text": [
      "result quantile:  -0.6740154258383808\n",
      "result rank: 2499803\n",
      "error: 197.0\n",
      "stat: {<MessageType.NEW_NODE: -1>: 1275, <MessageType.NEW_TASK: 0>: 102, <MessageType.RESULT: 1>: 664090, <MessageType.NEW_SUPER_NODE_TASK: -2>: 1944, <MessageType.NEW_SUPER_NODE_AGGREGATE: 3>: 2720927, <MessageType.SUPER_NODE_TASK_RESULT: 4>: 136378, <MessageType.SUPER_NODE_AGGREGATE_RESULT: 5>: 2720927}\n"
     ]
    }
   ],
   "source": [
    "rank = np.where(data == node_root.rank_query(i))[0][0]\n",
    "print(\"result quantile: \", node_root.rank_query(i))\n",
    "print(\"result rank:\", np.where(data == node_root.rank_query(i))[0][0])\n",
    "print(\"error:\", np.abs(rank - i))\n",
    "print(\"stat:\", network.stat)"
   ],
   "metadata": {
    "collapsed": false,
    "pycharm": {
     "name": "#%%\n"
    }
   }
  },
  {
   "cell_type": "markdown",
   "source": [
    "As one can see, the result is very similar to what the exact and numpy quantiles.\n",
    "The rank error is within the desired error."
   ],
   "metadata": {
    "collapsed": false,
    "pycharm": {
     "name": "#%% md\n"
    }
   }
  },
  {
   "cell_type": "markdown",
   "source": [
    "Let us check the most famous quatiles for standard normal distribution.\n",
    "Reference: https://www.researchgate.net/figure/True-Quantiles-and-Estimated-Quantiles-for-the-Standard-Normal-Distribution_tbl1_220504789"
   ],
   "metadata": {
    "collapsed": false,
    "pycharm": {
     "name": "#%% md\n"
    }
   },
   "outputs": [
    {
     "ename": "SyntaxError",
     "evalue": "invalid syntax (3019560734.py, line 1)",
     "output_type": "error",
     "traceback": [
      "\u001B[0;36m  Input \u001B[0;32mIn [23]\u001B[0;36m\u001B[0m\n\u001B[0;31m    Let us check the most\u001B[0m\n\u001B[0m        ^\u001B[0m\n\u001B[0;31mSyntaxError\u001B[0m\u001B[0;31m:\u001B[0m invalid syntax\n"
     ]
    }
   ],
   "execution_count": 23
  },
  {
   "cell_type": "code",
   "source": [
    "quantiles = [(0.01, -2.326), (0.025, -1.96), (0.05, -1.645), (0.1, -1.282), (0.5, 0.0), (0.9, 1.282), (0.95, 1.645),\n",
    "             (0.975, 1.96), (0.99, 2.326)]\n",
    "\n",
    "for q, val in quantiles:\n",
    "    print(f\"---\\nQuantile {q}\")\n",
    "    print(f\"Expected quantile value: {val}\")\n",
    "    print(f\"Calculated quantile value: {node_root.rank_query(q * n)}\")"
   ],
   "metadata": {
    "collapsed": false,
    "pycharm": {
     "name": "#%%\n"
    }
   },
   "execution_count": 24,
   "outputs": [
    {
     "name": "stdout",
     "output_type": "stream",
     "text": [
      "---\n",
      "Quantile 0.01\n",
      "Expected quantile value: -2.326\n",
      "Calculated quantile value: -2.324203086081388\n",
      "---\n",
      "Quantile 0.025\n",
      "Expected quantile value: -1.96\n",
      "Calculated quantile value: -1.9635812907712016\n",
      "---\n",
      "Quantile 0.05\n",
      "Expected quantile value: -1.645\n",
      "Calculated quantile value: -1.6452858117630766\n",
      "---\n",
      "Quantile 0.1\n",
      "Expected quantile value: -1.282\n",
      "Calculated quantile value: -1.2825414831287616\n",
      "---\n",
      "Quantile 0.5\n",
      "Expected quantile value: 0.0\n",
      "Calculated quantile value: 0.00038100629173741524\n",
      "---\n",
      "Quantile 0.9\n",
      "Expected quantile value: 1.282\n",
      "Calculated quantile value: 1.2807123994689054\n",
      "---\n",
      "Quantile 0.95\n",
      "Expected quantile value: 1.645\n",
      "Calculated quantile value: 1.644822066964553\n",
      "---\n",
      "Quantile 0.975\n",
      "Expected quantile value: 1.96\n",
      "Calculated quantile value: 1.9575637618396315\n",
      "---\n",
      "Quantile 0.99\n",
      "Expected quantile value: 2.326\n",
      "Calculated quantile value: 2.328399596276934\n"
     ]
    }
   ]
  },
  {
   "cell_type": "markdown",
   "source": [
    "As you can see the network finds the quantile very closely!"
   ],
   "metadata": {
    "collapsed": false,
    "pycharm": {
     "name": "#%% md\n"
    }
   }
  }
 ],
 "metadata": {
  "kernelspec": {
   "display_name": "Python 3",
   "language": "python",
   "name": "python3"
  },
  "language_info": {
   "codemirror_mode": {
    "name": "ipython",
    "version": 2
   },
   "file_extension": ".py",
   "mimetype": "text/x-python",
   "name": "python",
   "nbconvert_exporter": "python",
   "pygments_lexer": "ipython2",
   "version": "2.7.6"
  }
 },
 "nbformat": 4,
 "nbformat_minor": 0
}